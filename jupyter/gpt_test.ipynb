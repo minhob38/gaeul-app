{
 "cells": [
  {
   "cell_type": "markdown",
   "id": "66e0e834",
   "metadata": {},
   "source": [
    "## 최대 입력토큰까지 밀어넣는 방법으로 최대한 적게 사용할것\n",
    "## 메일별 토큰사이즈를 예측하는 코드 필요\n",
    "## GPT에게 시킨 말을 최적화 하는 기능이 필요\n",
    "## GPT로 검증이 되면 라마로 이동"
   ]
  },
  {
   "cell_type": "code",
   "execution_count": null,
   "id": "4cc4aadd",
   "metadata": {},
   "outputs": [],
   "source": []
  },
  {
   "cell_type": "code",
   "execution_count": 59,
   "id": "76bf014a",
   "metadata": {},
   "outputs": [],
   "source": [
    "from openai import OpenAI\n",
    "import json"
   ]
  },
  {
   "cell_type": "code",
   "execution_count": 60,
   "id": "20500682",
   "metadata": {},
   "outputs": [],
   "source": [
    "# 한번 업데이트되어부렸으\n",
    "client = OpenAI(\n",
    "    # defaults to os.environ.get(\"OPENAI_API_KEY\")\n",
    "    api_key=\"sk-_OB5eQftpw-yvfeqrU_w5wFMaInfDVHu98YDSKW6oHT3BlbkFJugbrClXorfnjs3QAL2SGP2kTRUCVgGrmdFvBkxmlcA\",\n",
    ")"
   ]
  },
  {
   "cell_type": "code",
   "execution_count": 61,
   "id": "e6d13bfd",
   "metadata": {},
   "outputs": [],
   "source": [
    "# 함수 정의 - 날씨와 주식 정보를 반환\n",
    "def get_weather(location):\n",
    "    return f\"{location}의 날씨는 맑습니다.\"\n",
    "\n",
    "def get_stock_info(company_name):\n",
    "    return f\"{company_name}의 주식은 상승 중입니다.\""
   ]
  },
  {
   "cell_type": "code",
   "execution_count": 63,
   "id": "90066d29",
   "metadata": {},
   "outputs": [],
   "source": [
    "# JSON Schema와 함수 정의\n",
    "tools = [\n",
    "    {\n",
    "        \"type\": \"function\",\n",
    "        \"function\": {\n",
    "            \"name\": \"get_weather\",\n",
    "            \"description\": \"Provides the current weather information for a given location.\",\n",
    "            \"parameters\": {\n",
    "                \"type\": \"object\",\n",
    "                \"properties\": {\n",
    "                    \"location\": {\"type\": \"string\", \"description\": \"The location to get weather information for.\"}\n",
    "                },\n",
    "                \"required\": [\"location\"],\n",
    "                \"additionalProperties\": False\n",
    "            },\n",
    "            \"strict\": True  # Structured Outputs 사용\n",
    "        }\n",
    "    },\n",
    "    {\n",
    "        \"type\": \"function\",\n",
    "        \"function\": {\n",
    "            \"name\": \"get_stock_info\",\n",
    "            \"description\": \"Provides the current stock status for a given company.\",\n",
    "            \"parameters\": {\n",
    "                \"type\": \"object\",\n",
    "                \"properties\": {\n",
    "                    \"company_name\": {\"type\": \"string\", \"description\": \"The company name to get stock information for.\"}\n",
    "                },\n",
    "                \"required\": [\"company_name\"],\n",
    "                \"additionalProperties\": False\n",
    "            },\n",
    "            \"strict\": True\n",
    "        }\n",
    "    }\n",
    "]"
   ]
  },
  {
   "cell_type": "code",
   "execution_count": 64,
   "id": "fc8a34e2",
   "metadata": {},
   "outputs": [],
   "source": [
    "# 사용자 요청 메시지 정의\n",
    "messages = [\n",
    "    {\"role\": \"system\", \"content\": \"You are an assistant that provides weather and stock information based on user input.\"},\n",
    "    {\"role\": \"user\", \"content\": \"서울의 날씨를 알려줘\"},\n",
    "    {\"role\": \"user\", \"content\": \"삼성전자의 주식 현황을 알려줘\"}\n",
    "]"
   ]
  },
  {
   "cell_type": "code",
   "execution_count": 66,
   "id": "00774be9",
   "metadata": {},
   "outputs": [],
   "source": [
    "# ChatCompletion 호출 - 도구 자동 선택\n",
    "response = client.chat.completions.create(\n",
    "    model=\"gpt-4o-mini\",\n",
    "    messages=messages,\n",
    "    tools=tools,\n",
    "    tool_choice=\"auto\"  # 'auto'로 설정하여 GPT가 도구를 자동으로 선택하게 함\n",
    ")"
   ]
  },
  {
   "cell_type": "code",
   "execution_count": 69,
   "id": "9a630aac",
   "metadata": {},
   "outputs": [
    {
     "name": "stdout",
     "output_type": "stream",
     "text": [
      "Result from get_weather: 서울의 날씨는 맑습니다.\n",
      "Result from get_stock_info: 삼성전자의 주식은 상승 중입니다.\n"
     ]
    }
   ],
   "source": [
    "# 함수 호출이 발생한 경우 결과 처리\n",
    "for choice in response.choices:\n",
    "    tool_calls = choice.message.tool_calls\n",
    "    \n",
    "    for tool_call in tool_calls:\n",
    "        # 함수 호출의 이름과 인수 가져오기\n",
    "        function_name = tool_call.function.name\n",
    "        data = tool_call.function.arguments \n",
    "#         data = data.encode().decode('unicode_escape')  # 과거버전에서만 필요.. 대단하네 바로나오네\n",
    "        arguments = json.loads(data)\n",
    "        \n",
    "        # 함수 실행 및 결과 출력\n",
    "        if function_name == \"get_weather\":\n",
    "            result = get_weather(arguments['location'])\n",
    "        elif function_name == \"get_stock_info\":\n",
    "            result = get_stock_info(arguments['company_name'])\n",
    "        \n",
    "        print(f\"Result from {function_name}: {result}\")"
   ]
  },
  {
   "cell_type": "code",
   "execution_count": null,
   "id": "62e13157",
   "metadata": {},
   "outputs": [],
   "source": []
  }
 ],
 "metadata": {
  "kernelspec": {
   "display_name": "Python 3 (ipykernel)",
   "language": "python",
   "name": "python3"
  },
  "language_info": {
   "codemirror_mode": {
    "name": "ipython",
    "version": 3
   },
   "file_extension": ".py",
   "mimetype": "text/x-python",
   "name": "python",
   "nbconvert_exporter": "python",
   "pygments_lexer": "ipython3",
   "version": "3.9.12"
  }
 },
 "nbformat": 4,
 "nbformat_minor": 5
}
